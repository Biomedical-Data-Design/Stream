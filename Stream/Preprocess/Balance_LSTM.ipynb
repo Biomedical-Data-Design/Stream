{
 "cells": [
  {
   "cell_type": "code",
   "execution_count": null,
   "metadata": {},
   "outputs": [],
   "source": [
    "from google.colab import drive\n",
    "drive.mount('/content/drive')\n",
    "import os\n",
    "os.chdir('/content/drive/My Drive/Colab Notebooks/')"
   ]
  },
  {
   "cell_type": "code",
   "execution_count": 2,
   "metadata": {},
   "outputs": [],
   "source": [
    "import pandas as pd\n",
    "import numpy as np\n",
    "import datetime\n",
    "folder_path = '/content/drive/My Drive/Stream/Models'\n",
    "df = pd.read_csv('13features.csv')\n",
    "\n",
    "current_date = datetime.datetime.now().date()\n",
    "random_seed = int(current_date.strftime('%Y%m%d'))\n",
    "\n",
    "patients_with_zero_mortality = df[df['actualicumortality'] == 0]['patientunitstayid'].unique()\n",
    "for i in range(1,6):\n",
    "    patients_with_one_mortality = df[df['actualicumortality'] == 1]['patientunitstayid'].sample(n=len(patients_with_zero_mortality), random_state=i).unique()\n",
    "\n",
    "    data_selected = pd.concat([df[df['patientunitstayid'].isin(patients_with_zero_mortality)], df[df['patientunitstayid'].isin(patients_with_one_mortality)]])\n",
    "    data_selected = data_selected[data_selected['patientunitstayid'] != 2747640]\n",
    "    file_name = 'balanced_LSTM_long{}.csv'.format(i)\n",
    "    data_selected.to_csv(os.path.join(folder_path, file_name), index=False)"
   ]
  }
 ],
 "metadata": {
  "kernelspec": {
   "display_name": "bdd",
   "language": "python",
   "name": "python3"
  },
  "language_info": {
   "codemirror_mode": {
    "name": "ipython",
    "version": 3
   },
   "file_extension": ".py",
   "mimetype": "text/x-python",
   "name": "python",
   "nbconvert_exporter": "python",
   "pygments_lexer": "ipython3",
   "version": "3.9.18"
  }
 },
 "nbformat": 4,
 "nbformat_minor": 2
}
