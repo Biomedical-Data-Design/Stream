{
 "cells": [
  {
   "cell_type": "code",
   "execution_count": null,
   "metadata": {},
   "outputs": [],
   "source": [
    "import os\n",
    "from google.colab import drive\n",
    "drive.mount('/content/drive')\n",
    "os.chdir('/content/drive/My Drive/EICU/eicu-collaborative-research-database-2.0')"
   ]
  },
  {
   "cell_type": "code",
   "execution_count": null,
   "metadata": {},
   "outputs": [],
   "source": [
    "import time\n",
    "import numpy as np\n",
    "import pandas as pd\n",
    "import matplotlib.pyplot as plt\n",
    "from utils import patient_id_age\n",
    "\n",
    "_, age, patient_offset = patient_id_age()\n",
    "\n",
    "# save as csv\n",
    "folder_path = '/content/drive/My Drive/Colab Notebooks'\n",
    "file_name = 'Age.csv'\n",
    "age.to_csv(os.path.join(folder_path, file_name), index=False)\n",
    "print(f'Saved to {os.path.join(folder_path, file_name)}')"
   ]
  }
 ],
 "metadata": {
  "language_info": {
   "name": "python"
  }
 },
 "nbformat": 4,
 "nbformat_minor": 2
}
