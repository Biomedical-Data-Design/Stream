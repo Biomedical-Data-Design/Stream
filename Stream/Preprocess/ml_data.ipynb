{
 "cells": [
  {
   "cell_type": "code",
   "execution_count": null,
   "metadata": {},
   "outputs": [],
   "source": [
    "# comment if not using google colab\n",
    "from google.colab import drive\n",
    "drive.mount('/content/drive')\n",
    "import os\n",
    "os.chdir('/content/drive/My Drive/Colab Notebooks')"
   ]
  },
  {
   "cell_type": "code",
   "execution_count": null,
   "metadata": {},
   "outputs": [],
   "source": [
    "import pandas as pd\n",
    "import numpy as np\n",
    "\n",
    "# turn into 6 hour time intervals\n",
    "def process_patient_data(file_path):\n",
    "    df = pd.read_csv(file_path)\n",
    "    \n",
    "    # Keep only the first 24 hours\n",
    "    df_filtered = df.groupby('patientunitstayid').head(24)\n",
    "    \n",
    "    results = pd.DataFrame()\n",
    "    for pid, group in df_filtered.groupby('patientunitstayid'):\n",
    "        patient_data = {'patientunitstayid': pid} \n",
    "        # Calculate 6-hour grouped statistics for selected columns\n",
    "        for col in ['heartrate', 'temperature', 'BP']:\n",
    "            for period in range(0, 24, 6):\n",
    "                sub_group = group.iloc[period:period+6]\n",
    "                patient_data[f'{col}_mean_{period//6}'] = sub_group[col].mean()\n",
    "                patient_data[f'{col}_max_{period//6}'] = sub_group[col].max()\n",
    "                patient_data[f'{col}_min_{period//6}'] = sub_group[col].min()\n",
    "                patient_data[f'{col}_var_{period//6}'] = sub_group[col].var(ddof=0)\n",
    "\n",
    "        # Average over 24 hours\n",
    "        for col in ['paO2', 'FiO2_x', 'FiO2_y', 'Glasgow score', 'BUN', 'WBC x 1000', 'bicarbonate', 'sodium', 'potassium', 'total bilirubin']:\n",
    "            patient_data[f'{col}'] = group[col].mean()\n",
    "\n",
    "        # Append patient data\n",
    "        results = pd.concat([results, pd.DataFrame(patient_data, index=[pid])])\n",
    "    return results\n",
    "\n",
    "file_path = \"13features.csv\"\n",
    "processed_data = process_patient_data(file_path)\n",
    "print(processed_data.head())"
   ]
  },
  {
   "cell_type": "code",
   "execution_count": null,
   "metadata": {},
   "outputs": [],
   "source": [
    "# put age in\n",
    "patient_df = pd.read_csv('patient.csv')\n",
    "merged_df = pd.merge(processed_data, patient_df[['patientunitstayid', 'age']], on='patientunitstayid', how='left')\n",
    "merged_df['age'] = merged_df['age'].replace('> 89', '90')\n",
    "\n",
    "folder_path = '/content/drive/My Drive/Stream/Models'\n",
    "file_name = 'merged_with_age.csv'\n",
    "merged_df.to_csv(os.path.join(folder_path, file_name), index=False)"
   ]
  }
 ],
 "metadata": {
  "kernelspec": {
   "display_name": "bdd",
   "language": "python",
   "name": "python3"
  },
  "language_info": {
   "codemirror_mode": {
    "name": "ipython",
    "version": 3
   },
   "file_extension": ".py",
   "mimetype": "text/x-python",
   "name": "python",
   "nbconvert_exporter": "python",
   "pygments_lexer": "ipython3",
   "version": "3.9.18"
  }
 },
 "nbformat": 4,
 "nbformat_minor": 2
}
