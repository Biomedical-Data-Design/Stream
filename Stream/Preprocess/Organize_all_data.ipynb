{
  "cells": [
    {
      "cell_type": "code",
      "execution_count": null,
      "metadata": {
        "id": "rvv1qaUZsJ6H",
        "colab": {
          "base_uri": "https://localhost:8080/"
        },
        "outputId": "734011da-5d34-4bf4-f361-d7a1ffebe07a"
      },
      "outputs": [
        {
          "output_type": "stream",
          "name": "stdout",
          "text": [
            "Drive already mounted at /content/drive; to attempt to forcibly remount, call drive.mount(\"/content/drive\", force_remount=True).\n"
          ]
        }
      ],
      "source": [
        "from google.colab import drive\n",
        "drive.mount('/content/drive')"
      ]
    },
    {
      "cell_type": "code",
      "execution_count": null,
      "metadata": {
        "id": "Bh8R6PL2sTxY"
      },
      "outputs": [],
      "source": [
        "import os\n",
        "import time\n",
        "import numpy as np\n",
        "import pandas as pd\n",
        "import matplotlib.pyplot as plt\n",
        "\n",
        "os.chdir('/content/drive/My Drive/Colab Notebooks')\n",
        "\n",
        "mergeway = 'left'\n",
        "\n",
        "folder_path = '/content/drive/My Drive/Colab Notebooks'"
      ]
    },
    {
      "cell_type": "code",
      "source": [
        "# merge HR and Temp\n",
        "df_HR = pd.read_csv('HR.csv')\n",
        "df_Temp = pd.read_csv('Temp.csv')\n",
        "df_final = pd.merge(df_HR, df_Temp, on=[\"patientunitstayid\", \"observationoffset\"], how=mergeway)\n",
        "del df_HR, df_Temp"
      ],
      "metadata": {
        "id": "c05cBhdN2HIl"
      },
      "execution_count": null,
      "outputs": []
    },
    {
      "cell_type": "code",
      "source": [
        "# merge PaO2\n",
        "df_Pao2 = pd.read_csv('PaO2.csv')\n",
        "df_final = pd.merge(df_final, df_Pao2, on=[\"patientunitstayid\", \"observationoffset\"], how=mergeway)\n",
        "del df_Pao2"
      ],
      "metadata": {
        "id": "FBqzdAxw2JAE"
      },
      "execution_count": null,
      "outputs": []
    },
    {
      "cell_type": "code",
      "source": [
        "# merge FiO2\n",
        "df_FiO2 = pd.read_csv('FiO2.csv')\n",
        "df_final = pd.merge(df_final, df_FiO2, on=[\"patientunitstayid\", \"observationoffset\"], how=mergeway)\n",
        "del df_FiO2"
      ],
      "metadata": {
        "id": "TeUNgiFL2LS8"
      },
      "execution_count": null,
      "outputs": []
    },
    {
      "cell_type": "code",
      "source": [
        "# merge FiO2\n",
        "df_FiO2 = pd.read_csv('FiO2.csv')\n",
        "df_final = pd.merge(df_final, df_FiO2, on=[\"patientunitstayid\", \"observationoffset\"], how=mergeway)\n",
        "del df_FiO2"
      ],
      "metadata": {
        "id": "x4u8AQoJ2Mw0"
      },
      "execution_count": null,
      "outputs": []
    },
    {
      "cell_type": "code",
      "source": [
        "# merge Glasgow\n",
        "df_Glasgow = pd.read_csv('Glasgow.csv')\n",
        "df_final = pd.merge(df_final, df_Glasgow, on=[\"patientunitstayid\", \"observationoffset\"], how=mergeway)\n",
        "del df_Glasgow"
      ],
      "metadata": {
        "id": "ODOBdjRL2O1-"
      },
      "execution_count": null,
      "outputs": []
    },
    {
      "cell_type": "code",
      "source": [
        "# merge BP\n",
        "df_BP = pd.read_csv('BloodPressure.csv')\n",
        "df_final = pd.merge(df_final, df_BP, on=[\"patientunitstayid\", \"observationoffset\"], how=mergeway)\n",
        "del df_BP"
      ],
      "metadata": {
        "id": "Ayg9kkHc2RYM"
      },
      "execution_count": null,
      "outputs": []
    },
    {
      "cell_type": "code",
      "source": [
        "# merge BUN\n",
        "df_BUN = pd.read_csv('BUN.csv')\n",
        "df_final = pd.merge(df_final, df_BUN, on=[\"patientunitstayid\", \"observationoffset\"], how=mergeway)\n",
        "del df_BUN"
      ],
      "metadata": {
        "id": "6V9FkwV_2S0-"
      },
      "execution_count": null,
      "outputs": []
    },
    {
      "cell_type": "code",
      "source": [
        "# merge WBC\n",
        "df_WBC = pd.read_csv('WBC.csv')\n",
        "df_final = pd.merge(df_final, df_WBC, on=[\"patientunitstayid\", \"observationoffset\"], how=mergeway)\n",
        "del df_WBC"
      ],
      "metadata": {
        "id": "53j9PFa62UCi"
      },
      "execution_count": null,
      "outputs": []
    },
    {
      "cell_type": "code",
      "source": [
        "# merge bicarbonate\n",
        "df_bicarbonate = pd.read_csv('bicarbonate.csv')\n",
        "df_final = pd.merge(df_final, df_bicarbonate, on=[\"patientunitstayid\", \"observationoffset\"], how=mergeway)\n",
        "del df_bicarbonate"
      ],
      "metadata": {
        "id": "OD9I5jlV2UbS"
      },
      "execution_count": null,
      "outputs": []
    },
    {
      "cell_type": "code",
      "source": [
        "# merge sodium\n",
        "df_sodium = pd.read_csv('sodium.csv')\n",
        "df_final = pd.merge(df_final, df_sodium, on=[\"patientunitstayid\", \"observationoffset\"], how=mergeway)\n",
        "del df_sodium"
      ],
      "metadata": {
        "id": "gPM3pW332WF4"
      },
      "execution_count": null,
      "outputs": []
    },
    {
      "cell_type": "code",
      "source": [
        "# merge potassium\n",
        "df_potassium = pd.read_csv('potassium.csv')\n",
        "df_final = pd.merge(df_final, df_potassium, on=[\"patientunitstayid\", \"observationoffset\"], how=mergeway)\n",
        "del df_potassium"
      ],
      "metadata": {
        "id": "cfFCvHHn2YXn"
      },
      "execution_count": null,
      "outputs": []
    },
    {
      "cell_type": "code",
      "source": [
        "# merge bilirubin\n",
        "df_bilirubin = pd.read_csv('bilirubin.csv')\n",
        "df_final = pd.merge(df_final, df_bilirubin, on=[\"patientunitstayid\", \"observationoffset\"], how=mergeway)\n",
        "del df_bilirubin"
      ],
      "metadata": {
        "id": "fa3og38h2Zqa"
      },
      "execution_count": null,
      "outputs": []
    },
    {
      "cell_type": "code",
      "source": [
        "df_cleaned_buf = df_final.dropna()\n",
        "df_mortality = pd.read_csv('mortality_data.csv')\n",
        "df_cleaned = pd.merge(df_cleaned_buf, df_mortality, on=[\"patientunitstayid\"], how=mergeway)\n",
        "df_cleaned.to_csv(os.path.join(folder_path, '13features.csv'), index=False)\n",
        "print(f'Saved to {os.path.join(folder_path, \"13features.csv\")}')"
      ],
      "metadata": {
        "id": "WzpAuyI3FUCY"
      },
      "execution_count": null,
      "outputs": []
    }
  ],
  "metadata": {
    "colab": {
      "provenance": []
    },
    "kernelspec": {
      "display_name": "Python 3",
      "name": "python3"
    },
    "language_info": {
      "name": "python"
    }
  },
  "nbformat": 4,
  "nbformat_minor": 0
}